{
  "nbformat": 4,
  "nbformat_minor": 0,
  "metadata": {},
  "cells": [
    {
      "metadata": {},
      "source": [
        "<td>\n",
        "   <a target=\"_blank\" href=\"https://labelbox.com\" ><img src=\"https://labelbox.com/blog/content/images/2021/02/logo-v4.svg\" width=256/></a>\n",
        "</td>"
      ],
      "cell_type": "markdown"
    },
    {
      "metadata": {},
      "source": [
        "<td>\n",
        "<a href=\"https://colab.research.google.com/github/Labelbox/labelbox-python/blob/master/examples/basics/custom_embeddings.ipynb\" target=\"_blank\"><img\n",
        "src=\"https://colab.research.google.com/assets/colab-badge.svg\" alt=\"Open In Colab\"></a>\n",
        "</td>\n",
        "\n",
        "<td>\n",
        "<a href=\"https://github.com/Labelbox/labelbox-python/tree/master/examples/basics/custom_embeddings.ipynb\" target=\"_blank\"><img\n",
        "src=\"https://img.shields.io/badge/GitHub-100000?logo=github&logoColor=white\" alt=\"GitHub\"></a>\n",
        "</td>"
      ],
      "cell_type": "markdown"
    },
    {
      "metadata": {},
      "source": [
        "# Documentation\n",
        "Please read this document before getting started. \n",
        "https://docs.google.com/document/d/1C_zZFGNjXq10P1MvEX6MM0TC7HHrkFOp9BB0P_S_2MQ"
      ],
      "cell_type": "markdown"
    },
    {
      "metadata": {},
      "source": [
        "# Imports"
      ],
      "cell_type": "markdown"
    },
    {
      "metadata": {},
      "source": [
        "# labelbox\n",
        "!pip3 install -q labelbox[data]\n",
        "import labelbox as lb\n",
        "#ndjson\n",
        "!pip3 install -q ndjson\n",
        "import ndjson"
      ],
      "cell_type": "code",
      "outputs": [
        {
          "output_type": "stream",
          "name": "stdout",
          "text": [
            "\u001b[2K     \u001b[90m\u2501\u2501\u2501\u2501\u2501\u2501\u2501\u2501\u2501\u2501\u2501\u2501\u2501\u2501\u2501\u2501\u2501\u2501\u2501\u2501\u2501\u2501\u2501\u2501\u2501\u2501\u2501\u2501\u2501\u2501\u2501\u2501\u2501\u2501\u2501\u2501\u2501\u2501\u2501\u001b[0m \u001b[32m189.2/189.2 KB\u001b[0m \u001b[31m3.4 MB/s\u001b[0m eta \u001b[36m0:00:00\u001b[0m\n",
            "\u001b[2K     \u001b[90m\u2501\u2501\u2501\u2501\u2501\u2501\u2501\u2501\u2501\u2501\u2501\u2501\u2501\u2501\u2501\u2501\u2501\u2501\u2501\u2501\u2501\u2501\u2501\u2501\u2501\u2501\u2501\u2501\u2501\u2501\u2501\u2501\u2501\u2501\u2501\u2501\u2501\u2501\u2501\u2501\u001b[0m \u001b[32m7.8/7.8 MB\u001b[0m \u001b[31m52.8 MB/s\u001b[0m eta \u001b[36m0:00:00\u001b[0m\n",
            "\u001b[?25h  Preparing metadata (setup.py) ... \u001b[?25l\u001b[?25hdone\n",
            "  Building wheel for pygeotile (setup.py) ... \u001b[?25l\u001b[?25hdone\n"
          ]
        }
      ],
      "execution_count": null
    },
    {
      "metadata": {},
      "source": [
        "# Install the wheel from Github"
      ],
      "cell_type": "markdown"
    },
    {
      "metadata": {},
      "source": [
        "# for custom embeddings\n",
        "!pip3 install -q 'git+https://github.com/Labelbox/advlib.git'"
      ],
      "cell_type": "code",
      "outputs": [
        {
          "output_type": "stream",
          "name": "stdout",
          "text": [
            "  Installing build dependencies ... \u001b[?25l\u001b[?25hdone\n",
            "  Getting requirements to build wheel ... \u001b[?25l\u001b[?25hdone\n",
            "  Preparing metadata (pyproject.toml) ... \u001b[?25l\u001b[?25hdone\n",
            "\u001b[2K     \u001b[90m\u2501\u2501\u2501\u2501\u2501\u2501\u2501\u2501\u2501\u2501\u2501\u2501\u2501\u2501\u2501\u2501\u2501\u2501\u2501\u2501\u2501\u2501\u2501\u2501\u2501\u2501\u2501\u2501\u2501\u2501\u2501\u2501\u2501\u2501\u2501\u2501\u2501\u2501\u2501\u2501\u001b[0m \u001b[32m62.8/62.8 KB\u001b[0m \u001b[31m2.6 MB/s\u001b[0m eta \u001b[36m0:00:00\u001b[0m\n",
            "\u001b[?25h  Building wheel for advlib (pyproject.toml) ... \u001b[?25l\u001b[?25hdone\n"
          ]
        }
      ],
      "execution_count": null
    },
    {
      "metadata": {},
      "source": [
        "# Labelbox Credentials"
      ],
      "cell_type": "markdown"
    },
    {
      "metadata": {},
      "source": [
        "API_KEY = \"<ADD YOUR LABELBOX CREDENTIALS>\"\n",
        "client = lb.Client(API_KEY)\n",
        "\n",
        "# set LABELBOX_API_KEY in bash\n",
        "%env LABELBOX_API_KEY=$API_KEY\n",
        "# sanity check it worked\n",
        "!echo $LABELBOX_API_KEY"
      ],
      "cell_type": "code",
      "outputs": [],
      "execution_count": null
    },
    {
      "metadata": {},
      "source": [
        "# Select data rows in Labelbox for custom embeddings"
      ],
      "cell_type": "markdown"
    },
    {
      "metadata": {},
      "source": [
        "# get images from a Labelbox dataset\n",
        "# Our systems start to process data after 1000 embeddings of each type, for this demo make sure your dataset is over 1000 data rows\n",
        "dataset = client.get_dataset(\"<ADD YOUR DATASET ID>\")\n",
        "drs = list(dataset.export_data_rows(timeout_seconds=9999))\n",
        "data_row_ids = [dr.uid for dr in drs]"
      ],
      "cell_type": "code",
      "outputs": [],
      "execution_count": null
    },
    {
      "metadata": {},
      "source": [
        "# Create the payload for custom embeddings\n",
        "It should be a .ndjson file\n",
        "It does not have to be created through python."
      ],
      "cell_type": "markdown"
    },
    {
      "metadata": {},
      "source": [
        "import numpy as np\n",
        "\n",
        "nb_data_rows = len(data_row_ids)\n",
        "# generate 1000 custom embedding vectors, of dimension 2048 each\n",
        "# Labelbox supports custom embeddings of dimension up to 2048\n",
        "custom_embeddings = [list(np.random.random(2048)) for _ in range(nb_data_rows)]"
      ],
      "cell_type": "code",
      "outputs": [],
      "execution_count": null
    },
    {
      "metadata": {},
      "source": [
        "# create the ndjson payload for custom embeddings\n",
        "payload = []\n",
        "for data_row_id,custom_embedding in zip(data_row_ids,custom_embeddings):\n",
        "  payload.append({\"id\": data_row_id, \"vector\": custom_embedding})\n",
        "\n",
        "print('payload', len(payload),payload[:1])"
      ],
      "cell_type": "code",
      "outputs": [],
      "execution_count": null
    },
    {
      "metadata": {},
      "source": [
        "# convert payload to ndjson file\n",
        "with open('payload.ndjson', 'w') as f:\n",
        "    ndjson.dump(payload, f)\n",
        "\n",
        "# sanity check that you can read/load the file and the payload is correct\n",
        "with open('payload.ndjson') as f:\n",
        "    sanity_check_payload = ndjson.load(f)\n",
        "\n",
        "print(\"Nb of custom embedding vectors in sanity_check_payload: \", len(sanity_check_payload))\n",
        "# print(\"sanity_check_payload: \", sanity_check_payload)"
      ],
      "cell_type": "code",
      "outputs": [
        {
          "output_type": "stream",
          "name": "stdout",
          "text": [
            "Nb of custom embedding vectors in sanity_check_payload:  1000\n"
          ]
        }
      ],
      "execution_count": null
    },
    {
      "metadata": {},
      "source": [
        "# Pick an existing custom embedding, or create a custom embedding"
      ],
      "cell_type": "markdown"
    },
    {
      "metadata": {},
      "source": [
        "# See all custom embeddings available\n",
        "!advtool embeddings list"
      ],
      "cell_type": "code",
      "outputs": [
        {
          "output_type": "stream",
          "name": "stdout",
          "text": [
            "00000000-0000-0000-0000-000000000000 - Image Embedding (CLIP ViT-B/32)          - dims: 512  \n",
            "00000000-0000-0000-0000-000000000001 - Text embedding (All-MPNet-base-v2)       - dims: 768  \n",
            "45cafc7a-5314-462a-8afc-7a5314062a3b - my_custom_embedding_2048_dimensions      - dims: 2048 \n",
            "7d3a6118-589d-4b6c-ba61-18589dbb6ccf - ResNet50_2048_dimensions                 - dims: 2048 \n"
          ]
        }
      ],
      "execution_count": null
    },
    {
      "metadata": {},
      "source": [
        "# # Create a new custom embedding\n",
        "!advtool embeddings create my_custom_embedding_2048_dimensions_v2 2048\n",
        "# will return the ID of the newly created embedding, e.g. 0ddc5d5c-0963-41ad-9c5d-5c0963a1ad98"
      ],
      "cell_type": "code",
      "outputs": [
        {
          "output_type": "stream",
          "name": "stdout",
          "text": [
            "Embedding type created id=da5d4b0f-e440-4e2e-9d4b-0fe4400e2e8d\n"
          ]
        }
      ],
      "execution_count": null
    },
    {
      "metadata": {},
      "source": [
        "# # Delete a custom embedding\n",
        "# !advtool embeddings delete 2e122b85-7def-44fb-922b-857defe4fb8a"
      ],
      "cell_type": "code",
      "outputs": [],
      "execution_count": null
    },
    {
      "metadata": {},
      "source": [
        "# Upload the payload to Labelbox"
      ],
      "cell_type": "markdown"
    },
    {
      "metadata": {},
      "source": [
        "# Upload the payload to Labelbox \n",
        "!advtool embeddings import da5d4b0f-e440-4e2e-9d4b-0fe4400e2e8d ./payload.ndjson"
      ],
      "cell_type": "code",
      "outputs": [
        {
          "output_type": "stream",
          "name": "stdout",
          "text": [
            "Uploading file: ./payload.ndjson \n",
            "Progress: 100.0%\n",
            "Check 'advtool embeddings count <embedding id>' for total searchable embeddings\n"
          ]
        }
      ],
      "execution_count": null
    },
    {
      "metadata": {},
      "source": [
        "# count how many data rows have a specific custom embedding (This can take a couple of minutes)\n",
        "!advtool embeddings count da5d4b0f-e440-4e2e-9d4b-0fe4400e2e8d"
      ],
      "cell_type": "code",
      "outputs": [
        {
          "output_type": "stream",
          "name": "stdout",
          "text": [
            "1000\n"
          ]
        }
      ],
      "execution_count": null
    },
    {
      "metadata": {},
      "source": [
        "print(len(payload))"
      ],
      "cell_type": "code",
      "outputs": [
        {
          "output_type": "stream",
          "name": "stdout",
          "text": [
            "1000\n"
          ]
        }
      ],
      "execution_count": null
    }
  ]
}
